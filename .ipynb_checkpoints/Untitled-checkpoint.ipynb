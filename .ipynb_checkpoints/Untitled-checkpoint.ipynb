{
 "cells": [
  {
   "cell_type": "code",
   "execution_count": 31,
   "metadata": {
    "collapsed": true,
    "deletable": true,
    "editable": true
   },
   "outputs": [],
   "source": [
    "texto = \"\"\"\n",
    "<!-- habilidade aprender_lingua -->\n",
    "  {% include2 \"habilidades/habilidades_mentais/aprender_lingua.html\" %}\n",
    "  <!-- habilidade banimento -->\n",
    "  {% include2 \"habilidades/habilidades_mentais/banimento.html\" %}\n",
    "  <!-- habilidade concentracao -->\n",
    "  {% include2 \"habilidades/habilidades_mentais/concentracao.html\" %}\n",
    "  <!-- habilidade contrabandear -->\n",
    "  {% include2 \"habilidades/habilidades_mentais/contrabandear.html\" %}\n",
    "  <!-- habilidade forca_de_vontade -->\n",
    "  {% include2 \"habilidades/habilidades_mentais/forca_de_vontade.html\" %}\n",
    "  <!-- habilidade mecanico -->\n",
    "  {% include2 \"habilidades/habilidades_mentais/mecanico.html\" %}\n",
    "  <!-- habilidade navegar -->\n",
    "  {% include2 \"habilidades/habilidades_mentais/navegar.html\" %}\n",
    "  <!-- habilidade operar_maquina -->\n",
    "  {% include2 \"habilidades/habilidades_mentais/operar_maquina.html\" %}\n",
    "  <!-- habilidade sobrevivencia -->\n",
    "  {% include2 \"habilidades/habilidades_mentais/sobrevivencia.html\" %}\n",
    "  <!-- habilidade uso_de_explosivos -->\n",
    "  {% include2 \"habilidades/habilidades_mentais/uso_de_explosivos.html\" %}\n",
    "\"\"\""
   ]
  },
  {
   "cell_type": "code",
   "execution_count": 32,
   "metadata": {
    "collapsed": true,
    "deletable": true,
    "editable": true
   },
   "outputs": [],
   "source": [
    "import re"
   ]
  },
  {
   "cell_type": "code",
   "execution_count": 33,
   "metadata": {
    "collapsed": false,
    "deletable": true,
    "editable": true
   },
   "outputs": [],
   "source": [
    "arquivos = [x.group(1) for x in re.finditer(r'\\{% include2 \"habilidades/habilidades_mentais/(.*)\" %\\}', texto)]"
   ]
  },
  {
   "cell_type": "code",
   "execution_count": 34,
   "metadata": {
    "collapsed": true,
    "deletable": true,
    "editable": true
   },
   "outputs": [],
   "source": [
    "import os"
   ]
  },
  {
   "cell_type": "code",
   "execution_count": 35,
   "metadata": {
    "collapsed": true,
    "deletable": true,
    "editable": true
   },
   "outputs": [],
   "source": [
    "for arquivo in arquivos:\n",
    "    with open(os.path.join('template', 'habilidades', 'habilidades_mentais',arquivo), 'a'):\n",
    "        pass"
   ]
  },
  {
   "cell_type": "code",
   "execution_count": null,
   "metadata": {
    "collapsed": true,
    "deletable": true,
    "editable": true
   },
   "outputs": [],
   "source": []
  }
 ],
 "metadata": {
  "kernelspec": {
   "display_name": "Python 3",
   "language": "python",
   "name": "python3"
  },
  "language_info": {
   "codemirror_mode": {
    "name": "ipython",
    "version": 3
   },
   "file_extension": ".py",
   "mimetype": "text/x-python",
   "name": "python",
   "nbconvert_exporter": "python",
   "pygments_lexer": "ipython3",
   "version": "3.6.0"
  }
 },
 "nbformat": 4,
 "nbformat_minor": 2
}
