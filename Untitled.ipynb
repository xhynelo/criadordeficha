{
 "cells": [
  {
   "cell_type": "code",
   "execution_count": 52,
   "metadata": {
    "collapsed": true,
    "deletable": true,
    "editable": true
   },
   "outputs": [],
   "source": [
    "texto = \"\"\"\n",
    "   <!-- habilidade cauda -->\n",
    "    {% include2 \"habilidades/habilidades_de_combate/golpes_naturais/cauda.html\" %}\n",
    "    <!-- habilidade garras -->\n",
    "    {% include2 \"habilidades/habilidades_de_combate/golpes_naturais/garras.html\" %}\n",
    "    <!-- habilidade golpear -->\n",
    "    {% include2 \"habilidades/habilidades_de_combate/golpes_naturais/golpear.html\" %}\n",
    "    <!-- habilidade luta -->\n",
    "    {% include2 \"habilidades/habilidades_de_combate/golpes_naturais/luta.html\" %}\n",
    "    <!-- habilidade mordida -->\n",
    "    {% include2 \"habilidades/habilidades_de_combate/golpes_naturais/mordida.html\" %}\n",
    "\"\"\""
   ]
  },
  {
   "cell_type": "code",
   "execution_count": 53,
   "metadata": {
    "collapsed": true,
    "deletable": true,
    "editable": true
   },
   "outputs": [],
   "source": [
    "import re"
   ]
  },
  {
   "cell_type": "code",
   "execution_count": 54,
   "metadata": {
    "collapsed": false,
    "deletable": true,
    "editable": true
   },
   "outputs": [],
   "source": [
    "arquivos = [x.group(1) for x in re.finditer(r'\\{% include2 \"habilidades/habilidades_de_combate/golpes_naturais/(.*)\" %\\}', texto)]"
   ]
  },
  {
   "cell_type": "code",
   "execution_count": 55,
   "metadata": {
    "collapsed": true,
    "deletable": true,
    "editable": true
   },
   "outputs": [],
   "source": [
    "import os"
   ]
  },
  {
   "cell_type": "code",
   "execution_count": 56,
   "metadata": {
    "collapsed": false,
    "deletable": true,
    "editable": true
   },
   "outputs": [],
   "source": [
    "for arquivo in arquivos:\n",
    "    with open(os.path.join('template', 'habilidades', 'habilidades_de_combate', 'golpes_naturais', arquivo), 'a'):\n",
    "        pass"
   ]
  },
  {
   "cell_type": "code",
   "execution_count": null,
   "metadata": {
    "collapsed": true,
    "deletable": true,
    "editable": true
   },
   "outputs": [],
   "source": []
  }
 ],
 "metadata": {
  "kernelspec": {
   "display_name": "Python 3",
   "language": "python",
   "name": "python3"
  },
  "language_info": {
   "codemirror_mode": {
    "name": "ipython",
    "version": 3
   },
   "file_extension": ".py",
   "mimetype": "text/x-python",
   "name": "python",
   "nbconvert_exporter": "python",
   "pygments_lexer": "ipython3",
   "version": "3.6.0"
  }
 },
 "nbformat": 4,
 "nbformat_minor": 2
}
