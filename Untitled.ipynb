{
 "cells": [
  {
   "cell_type": "code",
   "execution_count": 1,
   "metadata": {
    "collapsed": true,
    "deletable": true,
    "editable": true
   },
   "outputs": [],
   "source": [
    "texto = \"\"\"\n",
    "<!-- desvantagens altruista -->\n",
    "    {% include2 \"desvantagens/altruista.html\" \n",
    "    <!-- desvantagens baixa_autoestima -->\n",
    "    {% include2 \"desvantagens/baixa_autoestima.html\" %}\n",
    "    <!-- desvantagens babaca -->\n",
    "    {% include2 \"desvantagens/babaca.html\" %}  \n",
    "    <!-- desvantagens barulhento -->\n",
    "    {% include2 \"desvantagens/barulhento.html\" %}\n",
    "    <!-- desvantagens codigo_de_honra -->\n",
    "    {% include2 \"desvantagens/codigo_de_honra.html\"}\n",
    "    <!-- desvantagens condutor_arcano -->\n",
    "    {% include2 \"desvantagens/condutor_arcano.html\" %}\n",
    "    <!-- desvantagens covarde -->\n",
    "    {% include2 \"desvantagens/covarde.html\" %}\n",
    "    <!-- desvantagens dislexia -->\n",
    "    {% include2 \"desvantagens/dislexia.html\" %}\n",
    "    <!-- desvantagens egoista -->\n",
    "    {% include2 \"desvantagens/egoista.html\" %}\n",
    "    <!-- desvantagens estigma_social -->\n",
    "    {% include2 \"desvantagens/estigma_social.html\" %}\n",
    "    <!-- desvantagens exagerado -->\n",
    "    {% include2 \"desvantagens/exagerado.html\" %}\n",
    "    <!-- desvantagens fanatismo -->\n",
    "    {% include2 \"desvantagens/fanatismo.html\" %}\n",
    "    <!-- desvantagens fobia -->\n",
    "    {% include2 \"desvantagens/fobia.html\" %}\n",
    "    <!-- desvantagens frescura -->\n",
    "    {% include2 \"desvantagens/frescura.html\" %}\n",
    "    <!-- desvantagens lingua_presa -->\n",
    "    {% include2 \"desvantagens/lingua_presa.html\" %}\n",
    "    <!-- desvantagens ganancia -->\n",
    "    {% include2 \"desvantagens/ganancia.html\" %}\n",
    "  </div>\n",
    "  <div class=\"col-xs-6\">\n",
    "    <!-- desvantagens honrado -->\n",
    "    {% include2 \"desvantagens/honrado.html\" %}\n",
    "    <!-- desvantagens incapaz_de_mentir -->\n",
    "    {% include2 \"desvantagens/incapaz_de_mentir.html\" %}\n",
    "    <!-- desvantagens obrigacao -->\n",
    "    {% include2 \"desvantagens/obrigacao.html\" %}\n",
    "    <!-- desvantagens orgulho -->\n",
    "    {% include2 \"desvantagens/orgulho.html\" %}\n",
    "    <!-- desvantagens piromania -->\n",
    "    {% include2 \"desvantagens/piromania.html\" %}\n",
    "    <!-- desvantagens psicopatia -->\n",
    "    {% include2 \"desvantagens/psicopatia.html\" %}\n",
    "    <!-- desvantagens pouca_tolerancia_a_dor -->\n",
    "    {% include2 \"desvantagens/pouca_tolerancia_a_dor.html\" %}\n",
    "    <!-- desvantagens sadico -->\n",
    "    {% include2 \"desvantagens/sadico.html\" %}\n",
    "    <!-- desvantagens sede_de_sangue -->\n",
    "    {% include2 \"desvantagens/sede_de_sangue.html\" %}\n",
    "    <!-- desvantagens sem_senso_de_humor -->\n",
    "    {% include2 \"desvantagens/sem_senso_de_humor.html\" %}\n",
    "    <!-- desvantagens senso_de_dever -->\n",
    "    {% include2 \"desvantagens/senso_de_dever.html\" %}\n",
    "    <!-- desvantagens teimoso -->\n",
    "    {% include2 \"desvantagens/teimoso.html\" %}\n",
    "    <!-- desvantagens tolo -->\n",
    "    {% include2 \"desvantagens/tolo.html\" %}\n",
    "    <!-- desvantagens trauma -->\n",
    "    {% include2 \"desvantagens/trauma.html\" %}\n",
    "    <!-- desvantagens vicio -->\n",
    "    {% include2 \"desvantagens/vicio.html\" %}\n",
    "    <!-- desvantagens voto -->\n",
    "    {% include2 \"desvantagens/voto.html\" %}\n",
    "\"\"\""
   ]
  },
  {
   "cell_type": "code",
   "execution_count": 2,
   "metadata": {
    "collapsed": true,
    "deletable": true,
    "editable": true
   },
   "outputs": [],
   "source": [
    "import re"
   ]
  },
  {
   "cell_type": "code",
   "execution_count": 3,
   "metadata": {
    "collapsed": false,
    "deletable": true,
    "editable": true
   },
   "outputs": [],
   "source": [
    "arquivos = [x.group(1) for x in re.finditer(r'\\{% include2 \"desvantagens/(.*)\" %\\}', texto)]"
   ]
  },
  {
   "cell_type": "code",
   "execution_count": 4,
   "metadata": {
    "collapsed": true,
    "deletable": true,
    "editable": true
   },
   "outputs": [],
   "source": [
    "import os"
   ]
  },
  {
   "cell_type": "code",
   "execution_count": 5,
   "metadata": {
    "collapsed": true,
    "deletable": true,
    "editable": true
   },
   "outputs": [],
   "source": [
    "for arquivo in arquivos:\n",
    "    with open(os.path.join('template', 'desvantagens', arquivo), 'a'):\n",
    "        pass"
   ]
  },
  {
   "cell_type": "code",
   "execution_count": null,
   "metadata": {
    "collapsed": true,
    "deletable": true,
    "editable": true
   },
   "outputs": [],
   "source": []
  }
 ],
 "metadata": {
  "kernelspec": {
   "display_name": "Python 3",
   "language": "python",
   "name": "python3"
  },
  "language_info": {
   "codemirror_mode": {
    "name": "ipython",
    "version": 3
   },
   "file_extension": ".py",
   "mimetype": "text/x-python",
   "name": "python",
   "nbconvert_exporter": "python",
   "pygments_lexer": "ipython3",
   "version": "3.6.0"
  }
 },
 "nbformat": 4,
 "nbformat_minor": 2
}
